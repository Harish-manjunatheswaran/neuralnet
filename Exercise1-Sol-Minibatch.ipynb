{
 "cells": [
  {
   "cell_type": "markdown",
   "metadata": {},
   "source": [
    "# Exercise 1:\n",
    "In this exercise you will program a simple neural network with numpy. The tasks will be:\n",
    "1. Implementing a Forward propagation\n",
    "2. Completing the Forward propagation by computing the loss\n",
    "3. Implementing a Back propagation\n",
    "4. Training the neural network\n",
    "\n",
    "You will implement code in 'nn.py' and test your implementations with the code provided below."
   ]
  },
  {
   "cell_type": "code",
   "execution_count": 45,
   "metadata": {},
   "outputs": [],
   "source": [
    "# Neural Network Classifier\n",
    "\n",
    "import numpy as np\n",
    "import time\n",
    "\n",
    "class TwoLayerNet(object):\n",
    "\n",
    "    def __init__(self, input_dim, hidden_dim, output_dim, std=1e-4):\n",
    "       \n",
    "        self.params = {}\n",
    "        self.params['W1'] = std * np.random.randn(input_dim, hidden_dim)\n",
    "        self.params['b1'] = np.zeros(hidden_dim)\n",
    "        self.params['W2'] = std * np.random.randn(hidden_dim, output_dim)\n",
    "        self.params['b2'] = np.zeros(output_dim)\n",
    "        \n",
    "    def loss_grad(self, X, y=None, reg=0.0):\n",
    "        \n",
    "        # Unpack variables from the params dictionary\n",
    "    \n",
    "        W1 = self.params['W1']\n",
    "        b1 = self.params['b1']\n",
    "        W2 = self.params['W2'] \n",
    "        b2 = self.params['b2']\n",
    "        N, D = X.shape\n",
    "       \n",
    "        #--------------------------------------- forward propagation --------------------------------------- \n",
    "        \n",
    "        scores = None\n",
    "        loops = True\n",
    "        \n",
    "        if loops == False:\n",
    "            \n",
    "            # Task 1.1:\n",
    "            \n",
    "            # Compute the class scores for the input.\n",
    "            # Use the weights and biases to perform a forward propagation and store the results\n",
    "            # in the scores variable, which should be an array of shape (N, C).\n",
    "            # Start with a naive implementation with at least 2 loops.\n",
    "            \n",
    "            pro_1 = [[ 0 for i in range(len(W1[0]))] for j in range(len(X))]\n",
    "\n",
    "            # Insert a for loop for matrix product of X & W1\n",
    "\n",
    "            for i in range(len(X)):\n",
    "                # iterate through columns of Y\n",
    "                for j in range(len(W1[0])):\n",
    "                    #iterate through rows of Y\n",
    "                    for k in range(len(W1)):\n",
    "                        pro_1[i][j] += X[i][k] * W1[k][j]\n",
    "\n",
    "            # Find the sum z2\n",
    "\n",
    "            z2 = pro_1 + b1\n",
    "\n",
    "            # Implement ReLu\n",
    "            \n",
    "            a2 = np.maximum(0, z2)\n",
    "\n",
    "            # Insert a for loop for matrix product of a2 & w2\n",
    "\n",
    "            pro_2 = [[ 0 for i in range(len(W2[0]))] for j in range(len(a2))]\n",
    "\n",
    "            for i in range(len(a2)):\n",
    "                # iterate through columns of Y\n",
    "                for j in range(len(W2[0])):\n",
    "                    #iterate through rows of Y\n",
    "                    for k in range(len(W2)):\n",
    "                        pro_2[i][j] += a2[i][k] * W2[k][j]\n",
    "\n",
    "            scores = pro_2 + b2\n",
    "        \n",
    "        else:\n",
    "            \n",
    "            # Task 1.2:\n",
    "            \n",
    "            # Now implement the same forward propagation as you did above using no loops.\n",
    "            # If you are done set the parameter loops to False to test your code. \n",
    "        \n",
    "            z2 = np.dot(X, W1) + b1\n",
    "            a2 = np.maximum(0, z2)\n",
    "            scores = np.dot(a2, W2) + b2\n",
    "\n",
    "        \n",
    "        if y is None:\n",
    "            return scores\n",
    "        \n",
    "        #--------------------------------------- loss function ---------------------------------------------\n",
    "\n",
    "        loss = None\n",
    "        \n",
    "        # Task 2:\n",
    "        \n",
    "        # Compute the loss with softmax and store it in the variable loss. Include L2 regularization for W1 and W2.\n",
    "        # Make sure to handle numerical instabilities.\n",
    "        \n",
    "        # Softmax \n",
    "        exp_scores = np.exp(scores - np.amax(scores)) \n",
    "        probs = exp_scores / np.sum(exp_scores, axis = 1, keepdims = True)\n",
    "        \n",
    "        # Cross entropy loss\n",
    "        log_probs = -np.log(probs[range(N), y])\n",
    "        cross_entropy_loss = np.sum(log_probs) / N\n",
    "        \n",
    "        # Regularization\n",
    "        regularizer = ((reg * np.sum(np.square(W1))) + (reg * np.sum(np.square(W2))))\n",
    "        \n",
    "        # Loss function\n",
    "        loss = cross_entropy_loss + regularizer\n",
    "        \n",
    "        #--------------------------------------- back propagation -------------------------------------------\n",
    "        \n",
    "        grads = {}   \n",
    "        \n",
    "        # Task 3: \n",
    "        \n",
    "        # Compute the derivatives of the weights and biases (back propagation).\n",
    "        # Store the results in the grads dictionary, where 'W1' referes to the gradient of W1 etc.\n",
    "        \n",
    "        def reluDerivative(r):\n",
    "            r[r<=0] = 0\n",
    "            r[r>0] = 1\n",
    "            return r\n",
    "        \n",
    "        dw_scores = probs\n",
    "        dw_scores[range(N), y] -= 1\n",
    "        dw_scores = dw_scores / N\n",
    "        \n",
    "        # dLoss/dW2\n",
    "        dW_2 = np.dot(a2.T, dw_scores) + (2 * reg * W2)\n",
    "        \n",
    "        # dLoss/db2\n",
    "        db_2 = np.sum(dw_scores, axis = 0, keepdims = True)\n",
    "        \n",
    "        # dLoss/dW1\n",
    "        dW_1 = np.dot(X.T, (np.dot(dw_scores, W2.T)) * reluDerivative(a2)) + (2 * reg * W1)\n",
    "        \n",
    "        # dLoss/db1\n",
    "        db_1 = np.sum(np.dot(dw_scores, W2.T) * reluDerivative(a2), axis = 0, keepdims = True)\n",
    "\n",
    "        grads.update({\"W1\": dW_1, \"W2\": dW_2, \"b1\": db_1, \"b2\": db_2})\n",
    "        return loss, grads\n",
    "\n",
    "    \n",
    "    def train(self, X, y, X_val, y_val,\n",
    "          learning_rate=1e-3, learning_rate_decay=0.95,\n",
    "          reg=5e-6, num_iters=100,\n",
    "          batch_size=200, verbose=False):\n",
    "\n",
    "        num_train = X.shape[0]\n",
    "        iterations_per_epoch = max(num_train / batch_size, 1)\n",
    "\n",
    "    # Use SGD to optimize the parameters in self.model\n",
    "        loss_history = []\n",
    "        train_acc_history = []\n",
    "        val_acc_history = []\n",
    "\n",
    "        for it in range(num_iters):\n",
    "            X_batch = None\n",
    "            y_batch = None\n",
    "                \n",
    "        # Task 4.1:\n",
    "        \n",
    "        # Create a random minibatch of training data X and labels y, and stor\n",
    "        # them in X_batch and y_batch.\n",
    "            \n",
    "            minis = []\n",
    "\n",
    "            np.random.seed(0)\n",
    "            num_train = X.shape[0]\n",
    "            rand_indices = np.random.choice(np.arange(num_train), size = 1000, replace = True)\n",
    "            X_b = X[rand_indices, :]\n",
    "            y_b = y[rand_indices]\n",
    "            n_minibatches = X_b.shape[0] // batch_size\n",
    "\n",
    "            i = 0\n",
    "\n",
    "            for i in range(n_minibatches):\n",
    "                mini_X = X_b[i * batch_size:(i + 1)*batch_size, :]\n",
    "                mini_y = y_b[i * batch_size:(i + 1)*batch_size]\n",
    "\n",
    "                X_bat = mini_X[:, :]\n",
    "                y_bat = mini_y[:]\n",
    "                minis.append((X_bat, y_bat))\n",
    "                \n",
    "            mini_batch = minis \n",
    "                           \n",
    "            for mini in mini_batch:\n",
    "                \n",
    "                X_batch, y_batch = mini\n",
    "                \n",
    "                # Compute the Loss & Gradients of current minibatch\n",
    "            \n",
    "                loss, grads = self.loss_grad(X_batch, y=y_batch, reg=reg)\n",
    "                loss_history.append(loss)\n",
    "                \n",
    "            \n",
    "            # Task 4.2:\n",
    "            \n",
    "            # Update the parameters of the network (in self.params) by using stochastic gradient descent. \n",
    "\n",
    "                self.params['W1'] = self.params['W1'] - (learning_rate * grads[\"W1\"])\n",
    "                self.params['W2'] = self.params['W2'] - (learning_rate * grads[\"W2\"])\n",
    "                self.params['b1'] = self.params['b1'] - (learning_rate * grads[\"b1\"])\n",
    "                self.params['b2'] = self.params['b2'] - (learning_rate * grads[\"b2\"])\n",
    "\n",
    "                # Decay learning rate\n",
    "                learning_rate *= learning_rate_decay\n",
    "\n",
    "            if verbose and it % 10 == 0:\n",
    "                print('iteration %sd / %d: loss %f' % (it, num_iters, loss))\n",
    "\n",
    "            # Every epoch, check train and val accuracy and decay learning rate.\n",
    "            if it % iterations_per_epoch == 0:\n",
    "                \n",
    "                # Check accuracy\n",
    "                train_acc = (self.predict(X_batch) == y_batch).mean()\n",
    "                val_acc = (self.predict(X_val) == y_val).mean()\n",
    "                train_acc_history.append(train_acc)\n",
    "                val_acc_history.append(val_acc)\n",
    "\n",
    "        \n",
    "        return {\n",
    "\n",
    "            'loss_history': loss_history,\n",
    "            'train_acc_history': train_acc_history,\n",
    "            'val_acc_history': val_acc_history\n",
    "\n",
    "        }\n",
    "    \n",
    "    \n",
    "    def predict(self, X):\n",
    "    \n",
    "        y_pred = None\n",
    "        \n",
    "        # Task 4.3: \n",
    "        \n",
    "        # Implement this function to predict labels for the data points.\n",
    "        \n",
    "        W1 = self.params['W1']\n",
    "        b1 = self.params['b1']\n",
    "        W2 = self.params['W2'] \n",
    "        b2 = self.params['b2']\n",
    "        \n",
    "        a2 = np.maximum(0, np.dot(X, W1) + b1)\n",
    "        scores = np.dot(a2, W2) + b2\n",
    "        y_pred = np.argmax(scores, axis = 1)\n",
    "        \n",
    "        return y_pred"
   ]
  },
  {
   "cell_type": "code",
   "execution_count": 46,
   "metadata": {},
   "outputs": [],
   "source": [
    "# This code initializes the network (see __init__ in nn.py) and some other functions needed later. \n",
    "# The input data (X) with the associated labels (y) as well as the weights and biases \n",
    "# are initialized with random numbers. A seed is set to make your results comparable.\n",
    "\n",
    "import numpy as np\n",
    "import matplotlib.pyplot as plt\n",
    "\n",
    "input_dim = 4\n",
    "hidden_dim = 10\n",
    "num_classes = 3\n",
    "num_inputs = 5\n",
    "\n",
    "def init_net():\n",
    "    np.random.seed(0)\n",
    "    return TwoLayerNet(input_dim, hidden_dim, num_classes, std=1e-1)\n",
    "\n",
    "def init_data():\n",
    "    np.random.seed(1)\n",
    "    X = 10 * np.random.randn(num_inputs, input_dim)\n",
    "    y = np.array([0, 1, 2, 2, 1])\n",
    "    return X, y\n",
    "\n",
    "def rel_error(x, y):\n",
    "    \"\"\" returns relative error \"\"\"\n",
    "    return np.max(np.abs(x - y) / (np.maximum(1e-8, np.abs(x) + np.abs(y))))\n",
    "\n",
    "%matplotlib inline\n",
    "plt.rcParams['figure.figsize'] = (10.0, 8.0) # set default size of plots\n",
    "plt.rcParams['image.interpolation'] = 'nearest'\n",
    "plt.rcParams['image.cmap'] = 'gray'\n",
    "\n",
    "net = init_net()\n",
    "X, y = init_data()"
   ]
  },
  {
   "cell_type": "markdown",
   "metadata": {},
   "source": [
    "# Forward propagation\n",
    "Go to 'nn.py' to implement the Forward propagation in the loss_grad function (Task 1.1 and Task 1.2).\n",
    "Then test the code below to check your results."
   ]
  },
  {
   "cell_type": "code",
   "execution_count": 47,
   "metadata": {},
   "outputs": [
    {
     "name": "stdout",
     "output_type": "stream",
     "text": [
      "Your scores:\n",
      "[[-0.81233741 -1.27654624 -0.70335995]\n",
      " [-0.17129677 -1.18803311 -0.47310444]\n",
      " [-0.51590475 -1.01354314 -0.8504215 ]\n",
      " [-0.15419291 -0.48629638 -0.52901952]\n",
      " [-0.00618733 -0.12435261 -0.15226949]]\n",
      "\n",
      "correct scores:\n",
      "[[-0.81233741 -1.27654624 -0.70335995]\n",
      " [-0.17129677 -1.18803311 -0.47310444]\n",
      " [-0.51590475 -1.01354314 -0.8504215 ]\n",
      " [-0.15419291 -0.48629638 -0.52901952]\n",
      " [-0.00618733 -0.12435261 -0.15226949]]\n",
      "\n",
      "Difference between your scores and correct scores:\n",
      "3.6802720496109664e-08\n"
     ]
    }
   ],
   "source": [
    "scores = net.loss_grad(X)\n",
    "print('Your scores:')\n",
    "print(scores)\n",
    "print()\n",
    "print('correct scores:')\n",
    "correct_scores = np.asarray([\n",
    "  [-0.81233741, -1.27654624, -0.70335995],\n",
    "  [-0.17129677, -1.18803311, -0.47310444],\n",
    "  [-0.51590475, -1.01354314, -0.8504215 ],\n",
    "  [-0.15419291, -0.48629638, -0.52901952],\n",
    "  [-0.00618733, -0.12435261, -0.15226949]])\n",
    "print(correct_scores)\n",
    "print()\n",
    "# The difference should be very small. (< 1e-7)\n",
    "print('Difference between your scores and correct scores:')\n",
    "print(np.sum(np.abs(scores - correct_scores)))"
   ]
  },
  {
   "cell_type": "markdown",
   "metadata": {},
   "source": [
    "# Time difference\n",
    "Add code to measure the time of your naive implementation with at least 2 loops and the implementation with no loops and fill in your results below. \n",
    "Note that 'time' is already imported in the 'nn.py' file which you can use for the time measurement. "
   ]
  },
  {
   "cell_type": "markdown",
   "metadata": {},
   "source": [
    "Duration with 2 loops:"
   ]
  },
  {
   "cell_type": "raw",
   "metadata": {},
   "source": []
  },
  {
   "cell_type": "markdown",
   "metadata": {},
   "source": [
    "Duration without loops:"
   ]
  },
  {
   "cell_type": "raw",
   "metadata": {},
   "source": [
    "\n"
   ]
  },
  {
   "cell_type": "markdown",
   "metadata": {},
   "source": [
    "# Forwardpass loss\n",
    "Complete the forward propagation by implementing the loss function in 'nn.py' (Task 2).\n",
    "Run the code below to check your implementation."
   ]
  },
  {
   "cell_type": "code",
   "execution_count": 48,
   "metadata": {},
   "outputs": [
    {
     "name": "stdout",
     "output_type": "stream",
     "text": [
      "1.3037878913298206\n",
      "Difference between your loss and correct loss:\n",
      "1.794120407794253e-13\n"
     ]
    }
   ],
   "source": [
    "loss, _= net.loss_grad(X, y, reg=0.05)\n",
    "correct_loss = 1.30378789133\n",
    "print(loss)\n",
    "\n",
    "# should be very small, (< 1e-12)\n",
    "print('Difference between your loss and correct loss:')\n",
    "print(np.sum(np.abs(loss - correct_loss)))"
   ]
  },
  {
   "cell_type": "markdown",
   "metadata": {},
   "source": [
    "# Numerical issues with Softmax\n",
    "\n",
    "Please describe the two main issues that can lead to numerical instability when using the softmax function? Describe a/your approach of avoiding instabilities with softmax."
   ]
  },
  {
   "cell_type": "raw",
   "metadata": {},
   "source": [
    "Softmax function is prone to two issues: overflow and underflow\n",
    "\n",
    "Overflow: It occurs when very large numbers are approximated as infinity\n",
    "\n",
    "Underflow: It occurs when very small numbers (near zero in the number line) are approximated (i.e. rounded to) as zero\n",
    "\n",
    "To combat these issues when doing softmax computation, a common trick is to shift the input vector by subtracting the maximum element in it from all elements. For the input vector x, define z such that:\n",
    "\n",
    "z = x- np.amax(x)\n",
    "\n",
    "And then take the softmax of the new and stable vector z"
   ]
  },
  {
   "cell_type": "markdown",
   "metadata": {},
   "source": [
    "# Back propagation\n",
    "Now implement the Back propagation in 'nn.py' (Task 3) in the loss_grad function.\n",
    "Test the code below to check your results."
   ]
  },
  {
   "cell_type": "code",
   "execution_count": 49,
   "metadata": {},
   "outputs": [
    {
     "name": "stdout",
     "output_type": "stream",
     "text": [
      "W1 max relative error: 3.561318e-09\n",
      "W2 max relative error: 3.440708e-09\n",
      "b1 max relative error: 2.738421e-09\n",
      "b2 max relative error: 3.865091e-11\n"
     ]
    }
   ],
   "source": [
    "from eval_grad import numerical_grad\n",
    "\n",
    "# Here we use a numeric gradient to check your implementation of the back propagation.\n",
    "# If your implementation is correct, the difference between the numeric and\n",
    "# analytic gradients should be less than 1e-8 for each of W1, W2, b1, and b2.\n",
    "\n",
    "loss, grads = net.loss_grad(X, y, reg=0.05)\n",
    "\n",
    "# these should all be less than 1e-8\n",
    "for param_name in grads:\n",
    "    f = lambda W: net.loss_grad(X, y, reg=0.05)[0]\n",
    "    param_grad_num = numerical_grad(f, net.params[param_name], verbose=False)\n",
    "    print('%s max relative error: %e' % (param_name, rel_error(param_grad_num, grads[param_name])))"
   ]
  },
  {
   "cell_type": "markdown",
   "metadata": {},
   "source": [
    "# Training a network\n",
    "Finaly we want to train our network. For this purpose go to 'nn.py' and implement the train and predict function (Task 4.1, 4.2 and 4.3).\n",
    "Then test the code below to check your results."
   ]
  },
  {
   "cell_type": "code",
   "execution_count": 58,
   "metadata": {
    "scrolled": true
   },
   "outputs": [
    {
     "name": "stdout",
     "output_type": "stream",
     "text": [
      "iteration 0d / 100: loss 0.437614\n",
      "iteration 10d / 100: loss 0.016142\n",
      "iteration 20d / 100: loss 0.014579\n",
      "iteration 30d / 100: loss 0.014469\n",
      "iteration 40d / 100: loss 0.014461\n",
      "iteration 50d / 100: loss 0.014460\n",
      "iteration 60d / 100: loss 0.014460\n",
      "iteration 70d / 100: loss 0.014460\n",
      "iteration 80d / 100: loss 0.014460\n",
      "iteration 90d / 100: loss 0.014460\n",
      "Final training loss:  0.014460416251124625\n"
     ]
    },
    {
     "data": {
      "image/png": "[encoded data removed]",
      "text/plain": [
       "<Figure size 720x576 with 1 Axes>"
      ]
     },
     "metadata": {
      "needs_background": "light"
     },
     "output_type": "display_data"
    }
   ],
   "source": [
    "net = init_net()\n",
    "stats = net.train(X, y, X, y,\n",
    "            learning_rate=1e-1, reg=5e-6,\n",
    "            num_iters=100, verbose=True)\n",
    "\n",
    "print('Final training loss: ', stats['loss_history'][-1])\n",
    "\n",
    "# plot the loss history\n",
    "plt.plot(stats['loss_history'])\n",
    "plt.xlabel('iteration')\n",
    "plt.ylabel('training loss')\n",
    "plt.title('Training Loss history')\n",
    "plt.show()"
   ]
  },
  {
   "cell_type": "markdown",
   "metadata": {},
   "source": [
    "# Iterations\n",
    "Please explain at least how many iterations are useful for training this neural network (use the plot above for your explanation)?"
   ]
  },
  {
   "cell_type": "raw",
   "metadata": {},
   "source": [
    "In the above plot, we can observe that the loss reaches a steady value after roughly 20 iterations, the loss reaches a steady value."
   ]
  }
 ],
 "metadata": {
  "kernelspec": {
   "display_name": "Python 3",
   "language": "python",
   "name": "python3"
  },
  "language_info": {
   "codemirror_mode": {
    "name": "ipython",
    "version": 3
   },
   "file_extension": ".py",
   "mimetype": "text/x-python",
   "name": "python",
   "nbconvert_exporter": "python",
   "pygments_lexer": "ipython3",
   "version": "3.7.5"
  }
 },
 "nbformat": 4,
 "nbformat_minor": 2
}
